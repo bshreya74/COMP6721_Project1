{
 "cells": [
  {
   "cell_type": "code",
   "execution_count": 8,
   "metadata": {},
   "outputs": [
    {
     "name": "stdout",
     "output_type": "stream",
     "text": [
      "[-73.59  -73.588 -73.586 -73.584 -73.582 -73.58  -73.578 -73.576 -73.574\n",
      " -73.572 -73.57  -73.568 -73.566 -73.564 -73.562 -73.56  -73.558 -73.556\n",
      " -73.554 -73.552 -73.55 ]\n",
      "[45.49  45.492 45.494 45.496 45.498 45.5   45.502 45.504 45.506 45.508\n",
      " 45.51  45.512 45.514 45.516 45.518 45.52  45.522 45.524 45.526 45.528]\n"
     ]
    },
    {
     "data": {
      "image/png": "[encoded data removed]",
      "text/plain": [
       "<Figure size 432x288 with 1 Axes>"
      ]
     },
     "metadata": {
      "needs_background": "light"
     },
     "output_type": "display_data"
    }
   ],
   "source": [
    "import numpy as np\n",
    "import matplotlib.pyplot as plt\n",
    "import geopandas as gpd\n",
    "fig = plt.figure()\n",
    "ax = plt.axes()\n",
    "xs = np.arange(-73.59, -73.55, 0.002)\n",
    "print(xs)\n",
    "ys = np.arange(45.49, 45.53, 0.002)\n",
    "print(ys)\n",
    "lat, lon = np.meshgrid(xs,ys)\n",
    "for x in xs:\n",
    "    plt.plot([x, x], [ys[0], ys[-1]])\n",
    "for y in ys:\n",
    "    plt.plot([xs[0], xs[-1]], [y, y])\n",
    "plt.show()"
   ]
  },
  {
   "cell_type": "code",
   "execution_count": 5,
   "metadata": {},
   "outputs": [],
   "source": [
    "shapeFile = gpd.read_file(\"Shape/crime_dt.shp\")"
   ]
  },
  {
   "cell_type": "code",
   "execution_count": 6,
   "metadata": {},
   "outputs": [
    {
     "data": {
      "text/html": [
       "<div>\n",
       "<style scoped>\n",
       "    .dataframe tbody tr th:only-of-type {\n",
       "        vertical-align: middle;\n",
       "    }\n",
       "\n",
       "    .dataframe tbody tr th {\n",
       "        vertical-align: top;\n",
       "    }\n",
       "\n",
       "    .dataframe thead th {\n",
       "        text-align: right;\n",
       "    }\n",
       "</style>\n",
       "<table border=\"1\" class=\"dataframe\">\n",
       "  <thead>\n",
       "    <tr style=\"text-align: right;\">\n",
       "      <th></th>\n",
       "      <th>CATEGORIE</th>\n",
       "      <th>QUART</th>\n",
       "      <th>timestamp</th>\n",
       "      <th>geometry</th>\n",
       "    </tr>\n",
       "  </thead>\n",
       "  <tbody>\n",
       "    <tr>\n",
       "      <th>0</th>\n",
       "      <td>Vols qualifiés</td>\n",
       "      <td>soir</td>\n",
       "      <td>2017-08-02 00:00:00</td>\n",
       "      <td>POINT (-73.559521738 45.51703068770001)</td>\n",
       "    </tr>\n",
       "    <tr>\n",
       "      <th>1</th>\n",
       "      <td>Introduction</td>\n",
       "      <td>jour</td>\n",
       "      <td>2017-08-03 00:00:00</td>\n",
       "      <td>POINT (-73.5550997957 45.5218477274)</td>\n",
       "    </tr>\n",
       "    <tr>\n",
       "      <th>2</th>\n",
       "      <td>Méfait</td>\n",
       "      <td>jour</td>\n",
       "      <td>2017-08-23 00:00:00</td>\n",
       "      <td>POINT (-73.5835927935 45.490119618)</td>\n",
       "    </tr>\n",
       "    <tr>\n",
       "      <th>3</th>\n",
       "      <td>Vol dans / sur véhicule à moteur</td>\n",
       "      <td>jour</td>\n",
       "      <td>2018-09-05 00:00:00</td>\n",
       "      <td>POINT (-73.58794455479999 45.5229743869)</td>\n",
       "    </tr>\n",
       "    <tr>\n",
       "      <th>4</th>\n",
       "      <td>Vol dans / sur véhicule à moteur</td>\n",
       "      <td>jour</td>\n",
       "      <td>2017-08-25 00:00:00</td>\n",
       "      <td>POINT (-73.5528028932 45.5242964845)</td>\n",
       "    </tr>\n",
       "  </tbody>\n",
       "</table>\n",
       "</div>"
      ],
      "text/plain": [
       "                          CATEGORIE QUART            timestamp  \\\n",
       "0                    Vols qualifiés  soir  2017-08-02 00:00:00   \n",
       "1                      Introduction  jour  2017-08-03 00:00:00   \n",
       "2                            Méfait  jour  2017-08-23 00:00:00   \n",
       "3  Vol dans / sur véhicule à moteur  jour  2018-09-05 00:00:00   \n",
       "4  Vol dans / sur véhicule à moteur  jour  2017-08-25 00:00:00   \n",
       "\n",
       "                                   geometry  \n",
       "0   POINT (-73.559521738 45.51703068770001)  \n",
       "1      POINT (-73.5550997957 45.5218477274)  \n",
       "2       POINT (-73.5835927935 45.490119618)  \n",
       "3  POINT (-73.58794455479999 45.5229743869)  \n",
       "4      POINT (-73.5528028932 45.5242964845)  "
      ]
     },
     "execution_count": 6,
     "metadata": {},
     "output_type": "execute_result"
    }
   ],
   "source": [
    "shapeFile.head()"
   ]
  },
  {
   "cell_type": "code",
   "execution_count": null,
   "metadata": {},
   "outputs": [],
   "source": []
  },
  {
   "cell_type": "code",
   "execution_count": null,
   "metadata": {},
   "outputs": [],
   "source": []
  },
  {
   "cell_type": "code",
   "execution_count": null,
   "metadata": {},
   "outputs": [],
   "source": []
  }
 ],
 "metadata": {
  "kernelspec": {
   "display_name": "Python 3",
   "language": "python",
   "name": "python3"
  },
  "language_info": {
   "codemirror_mode": {
    "name": "ipython",
    "version": 3
   },
   "file_extension": ".py",
   "mimetype": "text/x-python",
   "name": "python",
   "nbconvert_exporter": "python",
   "pygments_lexer": "ipython3",
   "version": "3.7.3"
  }
 },
 "nbformat": 4,
 "nbformat_minor": 2
}
