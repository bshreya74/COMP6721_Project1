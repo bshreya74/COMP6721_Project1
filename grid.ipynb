{
 "cells": [
  {
   "cell_type": "code",
   "execution_count": 23,
   "metadata": {
    "scrolled": true
   },
   "outputs": [
    {
     "data": {
      "image/png": "[encoded data removed]",
      "text/plain": [
       "<Figure size 432x288 with 1 Axes>"
      ]
     },
     "metadata": {
      "needs_background": "light"
     },
     "output_type": "display_data"
    }
   ],
   "source": [
    "import numpy as np\n",
    "import matplotlib.pyplot as plt\n",
    "import geopandas as gpd\n",
    "from statistics import mean\n",
    "fig = plt.figure()\n",
    "ax = plt.axes()\n",
    "xs = np.arange(-73.59, -73.55, 0.002)\n",
    "#print(xs)\n",
    "ys = np.arange(45.49, 45.53, 0.002)\n",
    "#print(ys)\n",
    "lat, lon = np.meshgrid(xs,ys)\n",
    "#print(lat)\n",
    "#print(lon)\n",
    "for x in xs:\n",
    "    plt.plot([x, x], [ys[0], ys[-1]])\n",
    "for y in ys:\n",
    "    plt.plot([xs[0], xs[-1]], [y, y])\n",
    "plt.show()"
   ]
  },
  {
   "cell_type": "code",
   "execution_count": 24,
   "metadata": {},
   "outputs": [],
   "source": [
    "data = gpd.read_file(\"C:/Users/Dora/Documents/COMP 6721/Project1/Materials/Shape/crime_dt.shp\")"
   ]
  },
  {
   "cell_type": "code",
   "execution_count": 57,
   "metadata": {},
   "outputs": [
    {
     "name": "stdout",
     "output_type": "stream",
     "text": [
      "48.665789473684214\n",
      "[0, 0, 0, 0, 0, 0, 0, 0, 0, 0, 0, 0, 0, 0, 0, 0, 0, 0, 0, 0, 0, 0, 0, 0, 0, 0, 0, 0, 0, 0, 0, 0, 0, 0, 0, 0, 0, 0, 0, 0, 0, 0, 0, 0, 0, 0, 0, 0, 0, 0, 0, 0, 0, 0, 0, 0, 0, 0, 1, 1, 2, 2, 2, 2, 3, 3, 3, 4, 4, 4, 5, 5, 5, 5, 5, 5, 5, 5, 6, 6, 6, 6, 6, 6, 6, 7, 8, 8, 8, 9, 9, 9, 9, 9, 9, 9, 9, 10, 10, 10, 10, 11, 11, 11, 11, 11, 11, 12, 12, 12, 12, 14, 14, 14, 15, 15, 15, 16, 16, 16, 17, 17, 18, 18, 18, 18, 19, 19, 19, 19, 19, 20, 21, 21, 21, 21, 21, 21, 22, 23, 23, 23, 23, 23, 23, 24, 24, 24, 24, 24, 25, 25, 25, 25, 25, 25, 25, 25, 27, 27, 27, 27, 28, 28, 28, 29, 29, 29, 29, 30, 30, 30, 30, 30, 31, 31, 31, 31, 32, 32, 32, 33, 34, 35, 35, 37, 37, 37, 38, 38, 38, 38, 38, 39, 39, 39, 39, 40, 40, 40, 40, 41, 41, 41, 41, 42, 42, 43, 43, 44, 44, 44, 44, 44, 44, 45, 45, 46, 46, 46, 46, 47, 47, 47, 47, 47, 47, 48, 49, 50, 50, 51, 52, 52, 52, 53, 53, 53, 54, 55, 55, 55, 55, 56, 56, 56, 56, 57, 57, 57, 58, 58, 59, 59, 59, 60, 60, 61, 61, 61, 61, 62, 62, 62, 62, 63, 64, 64, 65, 65, 65, 65, 65, 66, 66, 66, 67, 67, 67, 70, 70, 70, 70, 70, 71, 71, 71, 71, 72, 73, 73, 73, 74, 75, 75, 76, 76, 76, 76, 77, 77, 78, 78, 79, 79, 79, 79, 80, 81, 81, 81, 83, 83, 84, 84, 85, 88, 88, 90, 90, 91, 91, 93, 94, 94, 95, 95, 97, 98, 98, 98, 99, 100, 100, 101, 101, 102, 103, 104, 105, 109, 110, 110, 111, 112, 113, 114, 117, 119, 119, 123, 127, 131, 132, 134, 135, 139, 140, 149, 150, 153, 156, 157, 158, 162, 165, 166, 167, 182, 187, 189, 191, 200, 205, 212, 218, 222, 255, 270, 278]\n",
      "110\n"
     ]
    },
    {
     "data": {
      "image/png": "[encoded data removed]",
      "text/plain": [
       "<Figure size 432x288 with 1 Axes>"
      ]
     },
     "metadata": {
      "needs_background": "light"
     },
     "output_type": "display_data"
    }
   ],
   "source": [
    "# Convert geometry to numpy array\n",
    "\n",
    "geomPointList=[]\n",
    "\n",
    "for point in data[\"geometry\"]:\n",
    "    geomPointList.append([point.x, point.y])\n",
    "npArray = np.array(geomPointList)\n",
    "#print(geomPointList)\n",
    "pointlength = len(geomPointList)\n",
    "row = len(xs)-1\n",
    "col = len(ys)-1\n",
    "#print(row)\n",
    "#print(col)\n",
    "#creating a matrix according to grid cells\n",
    "Matrix = [[0 for x in range(row)] for y in range(col)]\n",
    "\n",
    "#counting the number of crime data for each cell of the grid\n",
    "row = 0;\n",
    "for i in range(len(ys)-1, 0, -1):\n",
    "    col = 0;\n",
    "    ymax = ys[i]\n",
    "    ymin = ys[i-1]\n",
    "    for j in range(1,len(xs)):\n",
    "        xmax = xs[j]\n",
    "        xmin = xs[j-1]\n",
    "        #print(ymax, ymin, xmax, xmin)\n",
    "        count = 0;\n",
    "        for point in geomPointList:\n",
    "             if point[0] > xmin and point[0] < xmax and point[1] > ymin and point[1] < ymax:\n",
    "                    count+=1;\n",
    "        #print(row,col)\n",
    "        Matrix[row][col] = count\n",
    "        #print(col)\n",
    "        col +=1\n",
    "   # print(\"row =\", row)\n",
    "    row +=1\n",
    "#print(Matrix)\n",
    "\n",
    "#creating a one dimensional array from Matrix to calculate mean crime\n",
    "tArray = []\n",
    "\n",
    "for i in range(0,19):\n",
    "    for j in range(0,20):\n",
    "        tArray.append(Matrix[i][j])\n",
    "#print(tArray)\n",
    "#print(len(tArray))\n",
    "print(mean(tArray))\n",
    "sortedArray = tArray\n",
    "sortedArray.sort()\n",
    "print(sortedArray)\n",
    "threshold = 90\n",
    "index = len(sortedArray) * (threshold/100)\n",
    "pos = int(index)\n",
    "print(sortedArray[pos])\n",
    "\n",
    "for i in range(0,19):\n",
    "    for j in range(0,20):\n",
    "        if Matrix[i][j] >= sortedArray[pos]:\n",
    "            Matrix[i][j] = 100\n",
    "        else:\n",
    "            Matrix[i][j] = -1\n",
    "fig = plt.figure()\n",
    "ax = plt.axes()\n",
    "ax.imshow(Matrix, extent=[-73.59, -73.55, 45.49, 45.53])\n",
    "plt.show()"
   ]
  },
  {
   "cell_type": "code",
   "execution_count": null,
   "metadata": {},
   "outputs": [],
   "source": []
  },
  {
   "cell_type": "code",
   "execution_count": null,
   "metadata": {},
   "outputs": [],
   "source": []
  },
  {
   "cell_type": "code",
   "execution_count": null,
   "metadata": {},
   "outputs": [],
   "source": []
  }
 ],
 "metadata": {
  "kernelspec": {
   "display_name": "Python 3",
   "language": "python",
   "name": "python3"
  },
  "language_info": {
   "codemirror_mode": {
    "name": "ipython",
    "version": 3
   },
   "file_extension": ".py",
   "mimetype": "text/x-python",
   "name": "python",
   "nbconvert_exporter": "python",
   "pygments_lexer": "ipython3",
   "version": "3.7.3"
  }
 },
 "nbformat": 4,
 "nbformat_minor": 2
}
